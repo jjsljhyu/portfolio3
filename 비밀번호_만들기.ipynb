{
  "cells": [
    {
      "cell_type": "code",
      "execution_count": null,
      "metadata": {
        "id": "sl4ErsilwCQ9"
      },
      "outputs": [],
      "source": [
        "비밀번호를 검증할 수 있는 클래스를 작성하시오\n",
        "비밀번호 및 클래스는 아래의 조건을 만족해야 합니다.\n",
        "\n",
        "    <조건>\n",
        "    1. 비밀번호 자리수는 5 ~ 12자리이여야 한다.\n",
        "    2. 비밀번호는 영어 대소문자, 숫자, 특수기호(!, @, #)로 구성될 수 있다.\n",
        "    3. 비밀번호에는 영어 대문자 1개, 영어 소문자 1개, 숫자 1개, 특수기호 1개 이상 존재해야 한다.\n",
        "    4. 비밀번호는 숫자나 특수기호로 시작할 수 없다.\n",
        "    5. 비밀번호에는 연속된 글자를 사용할 수 없다.\n",
        "    6. 올바른 비밀번호가 설정될때까지 계속해서 비밀번호를 입력받아야 한다.\n",
        "    7. 사용자가 요구한다면, 적절한 비밀번호를 생성하여 제공해야 한다.\n",
        "\n",
        "ex) 최소한 아래의 테스트 비밀번호에 대하여 올바르게 대응해야 한다.\n",
        " - 123456abc! (실패)\n",
        " - AA123!!@@##(실패)\n",
        " - Ab1!(실패)\n",
        " - Poly203!@#(성공)"
      ]
    },
    {
      "cell_type": "code",
      "execution_count": null,
      "metadata": {
        "id": "PgYGTdcbC_iK"
      },
      "outputs": [],
      "source": [
        "class Password:\n",
        "  def __init__(self):\n",
        "    self.pw = \"\"\n",
        "\n",
        "    self.upper = [chr(i) for i in range(65,91)]\n",
        "    self.lower = [chr(i) for i in range(97,123)]\n",
        "    self.num = [str(i) for i in range(10)]\n",
        "    self.sym = ['!','@','#']\n",
        "\n",
        "  def check1(self):       # 비밀번호를 입력받음\n",
        "    self.pw = input(\"비밀번호: \")\n",
        "    self.check_con1()\n",
        "    self.check_con2()\n",
        "    self.check_con3()\n",
        "    self.check_con4()\n",
        "    self.check_con5()\n",
        "    print(\"비밀번호가 생성되었습니다!!\")\n",
        "\n",
        "  def check_con1(self):\n",
        "    if (len(self.pw) < 5) or (12 < len(self.pw)):\n",
        "      print(\"비밀번호는 5~12자리여야 합니다.\")\n",
        "      return Password.check1(self)\n",
        "\n",
        "  def check_con2(self):\n",
        "    b = len(self.pw)     # 패스워드의 길이\n",
        "    check = 0\n",
        "\n",
        "    for p in self.pw:\n",
        "     if p in self.upper or self.lower or self.num or self.sym :  # 패스워드에 영어 대소문자, 숫자, 특수기호가 있을 시에 check에 1씩 더함\n",
        "        check += 1\n",
        "\n",
        "    if check == b:\n",
        "      return True  # check 개수랑 패스워드의 길이가 같으면 True\n",
        "\n",
        "    else:\n",
        "      return self.check1()  # 조건을 충족시키기 못했기 때문에 다시 입력창으로 넘어감\n",
        "\n",
        "\n",
        "  def check_con3(self):\n",
        "    up1 = 0      # 대문자\n",
        "    lo2 = 0      # 소문자\n",
        "    nu3 = 0      # 숫자\n",
        "    sy4 = 0      # 특수기호\n",
        "\n",
        "    for p in self.pw:      # for문으로 각각 개수 카운트\n",
        "      if p in self.upper:\n",
        "        up1 += 1\n",
        "      elif p in self.lower:\n",
        "        lo2 += 1\n",
        "      elif p in self.num:\n",
        "        nu3 += 1\n",
        "      elif p in self.sym:\n",
        "        sy4 += 1\n",
        "\n",
        "    if up1 > 0 and lo2 > 0 and nu3 > 0 and sy4 > 0 :  # 각각의 개수가 0보다 크면 True\n",
        "      return True\n",
        "    else:\n",
        "      print(\"비밀번호에는 영어 대문자,소문자,숫자,특수기호가 각각 1개 이상 존재해야 합니다.\")\n",
        "      return self.check1()  # 조건을 충족시키기 못했기 때문에 다시 입력창으로 넘어감\n",
        "\n",
        "\n",
        "  def check_con4(self):\n",
        "    if (self.pw[0] in self.num) or (self.pw[0] in self.sym):\n",
        "      print(\"비밀번호는 숫자나 특수기호로 시작할 수 없습니다.\")\n",
        "      return self.check1()  # 조건을 충족시키기 못했기 때문에 다시 입력창으로 넘어감\n",
        "    else:\n",
        "      return True\n",
        "\n",
        "  def check_con5(self):\n",
        "    for i in range(len(self.pw)-1):\n",
        "      if self.pw[i] == self.pw[i+1]:\n",
        "        return self.check1()  # 조건을 충족시키기 못했기 때문에 다시 입력창으로 넘어감\n",
        "      else:\n",
        "        return True\n"
      ]
    },
    {
      "cell_type": "code",
      "execution_count": null,
      "metadata": {
        "colab": {
          "background_save": true,
          "base_uri": "https://localhost:8080/"
        },
        "id": "0K1KdocUJrSr",
        "outputId": "04bd1f0a-690b-43cf-e6e6-9dc496fcb1c8"
      },
      "outputs": [
        {
          "name": "stdout",
          "output_type": "stream",
          "text": [
            "비밀번호에는 영어 대문자,소문자,숫자,특수기호가 각각 1개 이상 존재해야 합니다.\n",
            "비밀번호에는 영어 대문자,소문자,숫자,특수기호가 각각 1개 이상 존재해야 합니다.\n",
            "비밀번호에는 영어 대문자,소문자,숫자,특수기호가 각각 1개 이상 존재해야 합니다.\n"
          ]
        }
      ],
      "source": [
        "# 변수 = ex\n",
        "ex = Password()\n",
        "ex.check1()"
      ]
    }
  ],
  "metadata": {
    "colab": {
      "provenance": []
    },
    "kernelspec": {
      "display_name": "Python 3",
      "name": "python3"
    },
    "language_info": {
      "name": "python"
    }
  },
  "nbformat": 4,
  "nbformat_minor": 0
}